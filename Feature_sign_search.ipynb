{
 "cells": [
  {
   "cell_type": "code",
   "execution_count": 6,
   "metadata": {
    "collapsed": true
   },
   "outputs": [],
   "source": [
    "import numpy as np\n",
    "\n",
    "def feature_sign_search(A, x, y, gamma):\n",
    "\tthreshold = 0.00001\n",
    "\tactive_set = set()\n",
    "\tt = np.zeros(x.shape)\n",
    "\t\n",
    "\tA2 = np.dot(A.T, A)\n",
    "\tAy = np.dot(A.T, y)\n",
    "\n",
    "\twhile(True):\n",
    "\n",
    "\t\tgrad = - 2 * Ay + 2 * np.dot(A2, x)\n",
    "\t\t\n",
    "\t\tcondition_a = 0\n",
    "\t\tif len(grad[t != 0]) != 0:\n",
    "\t\t\tcondition_a = np.max(abs(grad[t != 0] + gamma * t[t != 0]))\n",
    "\t\tif len(grad[t == 0]) == 0:\n",
    "\t\t\tbreak\n",
    "\t\tcondition_b = np.max(abs(grad[t == 0]))\n",
    "\t\tif condition_b < gamma :\n",
    "\t\t\tbreak\n",
    "\t\t\t\n",
    "\t\tif abs(condition_a) < threshold:\n",
    "\t\t\tx_max = np.argmax(np.abs(grad) * (t == 0))\n",
    "\t\t\tif grad[x_max] > gamma:\n",
    "\t\t\t\tt[x_max] = -1.\n",
    "\t\t\telif grad[x_max] < gamma:\n",
    "\t\t\t\tt[x_max] = 1.\n",
    "\t\t\tx[x_max] = 0.\n",
    "\t\t\tactive_set.add(x_max)\n",
    "\t\t\t\n",
    "\t\tsub = np.array(sorted(active_set))\n",
    "\t\tsub_matrix = A2[np.ix_(sub, sub)]\n",
    "\t\tsub_y = Ay[sub]\n",
    "\t\tsub_t = t[sub]\n",
    "\t\tlls = sub_y - gamma * sub_t / 2\n",
    "\t\tnew_x = np.linalg.solve(np.atleast_2d(sub_matrix), lls)\n",
    "\t\tnew_t = np.sign(new_x)\n",
    "\t\tsub_x = x[sub]\n",
    "\t\tflips = np.where(abs(new_t - sub_t) > 1)[0]\n",
    "\t\t\n",
    "\t\tif len(flips) > 0:\n",
    "\t\t\tpass                      # not implemented line search!!\n",
    "\t\telse:\n",
    "\t\t\tcurrent = new_x\n",
    "\t\t\t\n",
    "\t\tx[sub] = current\n",
    "\t\tzeros = sub[np.abs(x[sub]) < 0.000001]\n",
    "\t\tx[zeros] = 0.\n",
    "\t\tt[sub] = np.int8(np.sign(x[sub]))\n",
    "\t\t\n",
    "\t\tactive_set.difference_update(zeros)\n",
    "\treturn x\n"
   ]
  },
  {
   "cell_type": "code",
   "execution_count": 7,
   "metadata": {},
   "outputs": [
    {
     "name": "stdout",
     "output_type": "stream",
     "text": [
      "input:\n",
      "[2 3 6 4 5]\n",
      "output:\n",
      "[ 1.9999995  2.9999995  5.9999995  3.9999995  4.9999999]\n",
      "selections:\n",
      "[ 2.9999995   5.9999995   3.9999995   0.          1.9999995   0.99999998]\n"
     ]
    }
   ],
   "source": [
    "x = np.zeros(6)\n",
    "\n",
    "y = np.array([2,3,6,4,5])\n",
    "A = np.array([[0,1,0,0,0],[0,0,1,0,0],[0,0,0,1,0],[0,0,0,0,1],[1,0,0,0,0],[0,0,0,0,5]]).T\n",
    "gamma = 0.000001\n",
    "x = feature_sign_search(A, x, y, gamma)\n",
    "print(\"input:\")\n",
    "print(y)\n",
    "print(\"output:\")\n",
    "print(np.matmul(A,x))  \n",
    "print(\"selections:\")\n",
    "print(x) "
   ]
  },
  {
   "cell_type": "code",
   "execution_count": null,
   "metadata": {
    "collapsed": true
   },
   "outputs": [],
   "source": []
  }
 ],
 "metadata": {
  "kernelspec": {
   "display_name": "Python 3",
   "language": "python",
   "name": "python3"
  },
  "language_info": {
   "codemirror_mode": {
    "name": "ipython",
    "version": 3
   },
   "file_extension": ".py",
   "mimetype": "text/x-python",
   "name": "python",
   "nbconvert_exporter": "python",
   "pygments_lexer": "ipython3",
   "version": "3.6.2"
  }
 },
 "nbformat": 4,
 "nbformat_minor": 2
}
